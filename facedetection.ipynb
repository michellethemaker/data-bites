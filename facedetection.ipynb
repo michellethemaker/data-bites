{
 "cells": [
  {
   "cell_type": "code",
   "execution_count": 8,
   "id": "75184d7c",
   "metadata": {},
   "outputs": [],
   "source": [
    "import cv2\n",
    "\n",
    "face_cascade = cv2.CascadeClassifier(\"data-haarcascades/haarcascade_frontalface_default.xml\")\n",
    "eye_cascade = cv2.CascadeClassifier(\"data-haarcascades/haarcascade_eye.xml\")"
   ]
  },
  {
   "cell_type": "code",
   "execution_count": 9,
   "id": "cc23887a",
   "metadata": {},
   "outputs": [
    {
     "name": "stdout",
     "output_type": "stream",
     "text": [
      "all good\n"
     ]
    }
   ],
   "source": [
    "# define a video capture object and test\n",
    "cap = cv2.VideoCapture(0) \n",
    "if cap is None or not cap.isOpened():\n",
    "    print('Warning: unable to open video source: ', 0)\n",
    "else:\n",
    "    print('all good')\n"
   ]
  },
  {
   "cell_type": "code",
   "execution_count": 10,
   "id": "80247381",
   "metadata": {},
   "outputs": [],
   "source": [
    "while True:\n",
    "    ret, img = cap.read()\n",
    "    gray = cv2.cvtColor(img, cv2.COLOR_BGR2GRAY)\n",
    "    faces = face_cascade.detectMultiScale(gray, 1.1, 6)\n",
    "    for (x,y,w,h) in faces:\n",
    "        cv2.rectangle(img, (x,y), (x+w, y+h),(255,0,0),2) #bot left and right coords\n",
    "        roi_gray = gray[y:y+h, x:x+w] #grayscale detection\n",
    "        roi_color = img[y:y+h, x:x+w] #color drawing\n",
    "        eyes = eye_cascade.detectMultiScale(roi_gray)\n",
    "        for (ex, ey, ew, eh) in eyes:\n",
    "            cv2.rectangle(roi_color, (ex,ey), (ex+ew,ey+eh), (0,255,0),2)\n",
    "    cv2.imshow('frame', img)\n",
    "    if cv2.waitKey(1) & 0xFF == ord('q'):\n",
    "        break\n",
    "cap.release()\n",
    "cv2.destroyAllWindows()"
   ]
  }
 ],
 "metadata": {
  "kernelspec": {
   "display_name": "Python [conda env:.conda-newenv] *",
   "language": "python",
   "name": "conda-env-.conda-newenv-py"
  },
  "language_info": {
   "codemirror_mode": {
    "name": "ipython",
    "version": 3
   },
   "file_extension": ".py",
   "mimetype": "text/x-python",
   "name": "python",
   "nbconvert_exporter": "python",
   "pygments_lexer": "ipython3",
   "version": "3.10.0"
  }
 },
 "nbformat": 4,
 "nbformat_minor": 5
}
