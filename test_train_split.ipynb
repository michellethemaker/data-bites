{
 "cells": [
  {
   "cell_type": "code",
   "execution_count": 1,
   "id": "dd43a848",
   "metadata": {},
   "outputs": [],
   "source": [
    "import pandas as pd\n",
    "from sklearn.model_selection import train_test_split\n",
    "\n"
   ]
  },
  {
   "cell_type": "code",
   "execution_count": null,
   "id": "d9f31f76",
   "metadata": {},
   "outputs": [],
   "source": [
    "# notice how if random_state nor shuffle were set, it automatically means shuffle=True.\n",
    "# if you want to shuffle with a fixed seed(for repeatability), set random_state=<RANDOM SEED VALUE>, e.g. 4\n",
    "\n",
    "#test_size: [0,1], determines what proportion to set for test dataset (sampleva)"
   ]
  },
  {
   "cell_type": "code",
   "execution_count": 27,
   "id": "516b5ee9",
   "metadata": {},
   "outputs": [
    {
     "name": "stdout",
     "output_type": "stream",
     "text": [
      "   Coll\n",
      "3     4\n",
      "1     2\n",
      "4     5\n",
      "2     3\n",
      "   Coll\n",
      "0     1\n"
     ]
    }
   ],
   "source": [
    "sampledf = pd.DataFrame({'Coll': [1,2,3,4,5]})\n",
    "# sampletr, sampleva = train_test_split(sampledf, test_size=0.2)\n",
    "sampletr, sampleva = train_test_split(sampledf, test_size=0.2, random_state=4, shuffle=True)\n",
    "print(sampletr)\n",
    "print(sampleva)"
   ]
  }
 ],
 "metadata": {
  "kernelspec": {
   "display_name": "benv",
   "language": "python",
   "name": "python3"
  },
  "language_info": {
   "codemirror_mode": {
    "name": "ipython",
    "version": 3
   },
   "file_extension": ".py",
   "mimetype": "text/x-python",
   "name": "python",
   "nbconvert_exporter": "python",
   "pygments_lexer": "ipython3",
   "version": "3.8.1"
  }
 },
 "nbformat": 4,
 "nbformat_minor": 5
}
